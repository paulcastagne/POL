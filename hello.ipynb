{
 "cells": [
  {
   "cell_type": "markdown",
   "metadata": {},
   "source": [
    "# Simple Hello World"
   ]
  },
  {
   "cell_type": "code",
   "execution_count": 1,
   "metadata": {},
   "outputs": [
    {
     "data": {
      "text/plain": [
       "Hello World !"
      ]
     },
     "execution_count": 1,
     "metadata": {},
     "output_type": "execute_result"
    }
   ],
   "source": [
    "String message = \"Hello\";\n",
    "\n",
    "message + \" World !\""
   ]
  },
  {
   "cell_type": "code",
   "execution_count": 4,
   "metadata": {},
   "outputs": [
    {
     "name": "stdout",
     "output_type": "stream",
     "text": [
      "Entrez la quantité de Stylos à €1.20 :\n",
      "Entrez la quantité de Cahier à €3.50 :\n",
      "+---------------+---------+-----+----------+\n",
      "| Product       | € Unit  | Qty |   price  |\n",
      "+---------------+---------+-----+----------+\n",
      "| Stylos        |   1.20€ |   2 |    2.40€ |\n",
      "| Cahier        |   3.50€ |   8 |   28.00€ |\n",
      "+---------------+---------+-----+----------+\n",
      "                                |  30.40€  |\n",
      "                                +----------+\n"
     ]
    }
   ],
   "source": [
    "import java.util.Scanner;\n",
    "\n",
    "void displayGridLine() {\n",
    "    System.out.println(\"+---------------+---------+-----+----------+\");\n",
    "}\n",
    "\n",
    "void displayProductGridHeader() {\n",
    "    System.out.println(\"+---------------+---------+-----+----------+\");\n",
    "    System.out.println(\"| Product       | € Unit  | Qty |   price  |\");\n",
    "    System.out.println(\"+---------------+---------+-----+----------+\");\n",
    "}\n",
    "\n",
    "void displayProductGridFooter(double total) {\n",
    "    System.out.println(\"+---------------+---------+-----+----------+\");\n",
    "    System.out.printf(\"                                |%7.2f€  |\\n\", total);\n",
    "    System.out.println(\"                                +----------+\");\n",
    "}\n",
    "\n",
    "int inputProductQuantity(Scanner keyboard, String productName, double unitPrice) {\n",
    "    System.out.printf(\"Entrez la quantité de %s à €%.2f :\\n\", productName, unitPrice);\n",
    "    int quantity = keyboard.nextInt();\n",
    "    while (quantity < 0 || quantity > 900) {\n",
    "        System.out.println(\"Valeur incorrecte, veuillez réessayer.\");\n",
    "        System.out.println(\"Veuillez saisir un nombre compris entre 0 et 900.\");\n",
    "        quantity = keyboard.nextInt();\n",
    "    }\n",
    "    return quantity;}\n",
    "\n",
    "    double displayProductGridEntry(String productName, double unitPrice, int quantity) {\n",
    "        double price = unitPrice * (double)quantity;\n",
    "        System.out.printf(\"| %-13s | %6.2f€ | %3d | %7.2f€ |\\n\", productName, unitPrice, quantity, price);\n",
    "        return price;\n",
    "    }\n",
    "    \n",
    "    // Code principal\n",
    "    Scanner keyboard = new Scanner(System.in);\n",
    "    \n",
    "    String productName1 = \"Stylos\"; \n",
    "    double unitPrice1 = 1.2; \n",
    "    \n",
    "    int quantity1 = inputProductQuantity(keyboard, productName1, unitPrice1);\n",
    "    \n",
    "    String productName2 = \"Cahier\";\n",
    "    double unitPrice2 = 3.5;\n",
    "    \n",
    "    int quantity2 = inputProductQuantity(keyboard, productName2, unitPrice2);\n",
    "    \n",
    "    keyboard.close();\n",
    "    \n",
    "    double total = 0;\n",
    "    \n",
    "    displayProductGridHeader();\n",
    "    \n",
    "    total += displayProductGridEntry(productName1, unitPrice1, quantity1);\n",
    "    \n",
    "    total += displayProductGridEntry(productName2, unitPrice2, quantity2);\n",
    "    \n",
    "    displayProductGridFooter(total);"
   ]
  }
 ],
 "metadata": {
  "kernelspec": {
   "display_name": "Java (rjk 2.2.0)",
   "language": "java",
   "name": "rapaio-jupyter-kernel"
  },
  "language_info": {
   "codemirror_mode": "java",
   "file_extension": ".jshell",
   "mimetype": "text/x-java-source",
   "name": "java",
   "nbconvert_exporter": "script",
   "pygments_lexer": "java",
   "version": "21.0.6+7-LTS"
  }
 },
 "nbformat": 4,
 "nbformat_minor": 2
}
